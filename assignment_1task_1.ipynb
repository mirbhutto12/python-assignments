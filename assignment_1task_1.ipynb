{
 "cells": [
  {
   "cell_type": "code",
   "execution_count": null,
   "id": "8f3fc19a",
   "metadata": {},
   "outputs": [],
   "source": []
  },
  {
   "cell_type": "code",
   "execution_count": 2,
   "id": "496d6fc1",
   "metadata": {},
   "outputs": [
    {
     "name": "stdout",
     "output_type": "stream",
     "text": [
      "enter first num : 3\n",
      "enter second num : 3\n",
      "sum of two numbers is :  6\n"
     ]
    }
   ],
   "source": [
    "num_1 = int(input(\"enter first num : \")) \n",
    "num_2 = int(input(\"enter second num : \")) \n",
    "print(\"the sum of two numbers is : \",  + num_1+ num_2)"
   ]
  },
  {
   "cell_type": "code",
   "execution_count": 3,
   "id": "612495b4",
   "metadata": {},
   "outputs": [
    {
     "name": "stdout",
     "output_type": "stream",
     "text": [
      "enter first num : 5\n",
      "enter second num : 3\n",
      "the subtraction of two numbers is :  2\n"
     ]
    }
   ],
   "source": [
    "num_1 = int(input(\"enter first num : \")) \n",
    "num_2 = int(input(\"enter second num : \")) \n",
    "print(\"the subtraction of two numbers is : \",  + num_1 - num_2)"
   ]
  },
  {
   "cell_type": "code",
   "execution_count": 4,
   "id": "1d63801b",
   "metadata": {},
   "outputs": [
    {
     "name": "stdout",
     "output_type": "stream",
     "text": [
      "enter first num : 2\n",
      "enter second num : 6\n",
      "the multiplication of two numbers is :  12\n"
     ]
    }
   ],
   "source": [
    "num_1 = int(input(\"enter first num : \")) \n",
    "num_2 = int(input(\"enter second num : \")) \n",
    "print(\"the multiplication of two numbers is : \",  + num_1 * num_2)"
   ]
  },
  {
   "cell_type": "code",
   "execution_count": 5,
   "id": "af41cf54",
   "metadata": {},
   "outputs": [
    {
     "name": "stdout",
     "output_type": "stream",
     "text": [
      "enter first num : 10\n",
      "enter second num : 2\n",
      "the divition of two numbers is :  5.0\n"
     ]
    }
   ],
   "source": [
    "num_1 = int(input(\"enter first num : \")) \n",
    "num_2 = int(input(\"enter second num : \")) \n",
    "print(\"the divition of two numbers is : \",  + num_1 / num_2)"
   ]
  },
  {
   "cell_type": "code",
   "execution_count": null,
   "id": "f650f0b1",
   "metadata": {},
   "outputs": [],
   "source": []
  }
 ],
 "metadata": {
  "kernelspec": {
   "display_name": "Python 3 (ipykernel)",
   "language": "python",
   "name": "python3"
  },
  "language_info": {
   "codemirror_mode": {
    "name": "ipython",
    "version": 3
   },
   "file_extension": ".py",
   "mimetype": "text/x-python",
   "name": "python",
   "nbconvert_exporter": "python",
   "pygments_lexer": "ipython3",
   "version": "3.9.12"
  }
 },
 "nbformat": 4,
 "nbformat_minor": 5
}
