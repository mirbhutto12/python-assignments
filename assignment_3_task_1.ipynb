{
 "cells": [
  {
   "cell_type": "code",
   "execution_count": 1,
   "id": "ff2dd1fd",
   "metadata": {},
   "outputs": [
    {
     "name": "stdout",
     "output_type": "stream",
     "text": [
      "Generally The Pythons are better tha anything else at killing.\n"
     ]
    }
   ],
   "source": [
    "#variables and strings\n",
    "\n",
    "message = \"Generally The Pythons are better tha anything else at killing.\"\n",
    "print(message)"
   ]
  },
  {
   "cell_type": "code",
   "execution_count": 2,
   "id": "a47ad624",
   "metadata": {},
   "outputs": [
    {
     "name": "stdout",
     "output_type": "stream",
     "text": [
      "mark jackson . “python-why settle for snak oil when you can have the whole snak .”\n"
     ]
    }
   ],
   "source": [
    "quote = \"“python-why settle for snak oil when you can have the whole snak .”\"\n",
    "authour =  \"mark jackson .\"\n",
    "print(authour + \" \" + quote)"
   ]
  },
  {
   "cell_type": "code",
   "execution_count": null,
   "id": "5aaad7fc",
   "metadata": {},
   "outputs": [],
   "source": []
  }
 ],
 "metadata": {
  "kernelspec": {
   "display_name": "Python 3 (ipykernel)",
   "language": "python",
   "name": "python3"
  },
  "language_info": {
   "codemirror_mode": {
    "name": "ipython",
    "version": 3
   },
   "file_extension": ".py",
   "mimetype": "text/x-python",
   "name": "python",
   "nbconvert_exporter": "python",
   "pygments_lexer": "ipython3",
   "version": "3.9.12"
  }
 },
 "nbformat": 4,
 "nbformat_minor": 5
}
