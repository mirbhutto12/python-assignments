{
 "cells": [
  {
   "cell_type": "code",
   "execution_count": 4,
   "id": "785ba11c",
   "metadata": {},
   "outputs": [
    {
     "name": "stdout",
     "output_type": "stream",
     "text": [
      "Enter any letter : meer\n",
      "entered letter is a consonant\n"
     ]
    }
   ],
   "source": [
    "#Take input any letter from user and print that enter letter is vowel or a consonant\n",
    "\n",
    "entered_letter = input(\"Enter any letter : \")\n",
    "\n",
    "if entered_letter == \"a\" or entered_letter ==\"a\":\n",
    "    print(\"entered letter is a vowel\")\n",
    "elif entered_letter == \"e\" or entered_letter == \"e\":\n",
    "    print(\"entered letter is a vowel\")\n",
    "elif entered_letter == \"i\" or entered_letter == \"i\":\n",
    "    print(\"entered letter is a vowel\")\n",
    "elif entered_letter == \"o\" or entered_letter == \"o\":\n",
    "    print(\"entered letter is a vowel\")\n",
    "elif entered_letter == \"u\" or entered_letter == \"u\":\n",
    "    print(\"entered letter is a vowel\")\n",
    "else:\n",
    "    print(\"entered letter is a consonant\")"
   ]
  },
  {
   "cell_type": "code",
   "execution_count": null,
   "id": "15ee7656",
   "metadata": {},
   "outputs": [],
   "source": [
    "mee"
   ]
  }
 ],
 "metadata": {
  "kernelspec": {
   "display_name": "Python 3 (ipykernel)",
   "language": "python",
   "name": "python3"
  },
  "language_info": {
   "codemirror_mode": {
    "name": "ipython",
    "version": 3
   },
   "file_extension": ".py",
   "mimetype": "text/x-python",
   "name": "python",
   "nbconvert_exporter": "python",
   "pygments_lexer": "ipython3",
   "version": "3.9.12"
  }
 },
 "nbformat": 4,
 "nbformat_minor": 5
}
