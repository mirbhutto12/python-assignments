{
 "cells": [
  {
   "cell_type": "code",
   "execution_count": 1,
   "id": "873fa4c9",
   "metadata": {},
   "outputs": [
    {
     "name": "stdout",
     "output_type": "stream",
     "text": [
      "enter raduis of a circle  : 5\n",
      "input radius is :  5.0\n",
      "area of circle with radius 5.0 is 78.55\n"
     ]
    }
   ],
   "source": [
    "#Calculate Area Of Circle By Taking Radius As a Input\n",
    "\n",
    "radius = float(input(\"enter raduis of a circle  : \"))\n",
    "pi = 3.142\n",
    "area = pi * radius**2\n",
    "print(\"input radius is : \", radius)\n",
    "print(\"area of circle with radius\",radius,\"is\",area)"
   ]
  },
  {
   "cell_type": "code",
   "execution_count": null,
   "id": "4fed4ac6",
   "metadata": {},
   "outputs": [],
   "source": []
  }
 ],
 "metadata": {
  "kernelspec": {
   "display_name": "Python 3 (ipykernel)",
   "language": "python",
   "name": "python3"
  },
  "language_info": {
   "codemirror_mode": {
    "name": "ipython",
    "version": 3
   },
   "file_extension": ".py",
   "mimetype": "text/x-python",
   "name": "python",
   "nbconvert_exporter": "python",
   "pygments_lexer": "ipython3",
   "version": "3.9.12"
  }
 },
 "nbformat": 4,
 "nbformat_minor": 5
}
