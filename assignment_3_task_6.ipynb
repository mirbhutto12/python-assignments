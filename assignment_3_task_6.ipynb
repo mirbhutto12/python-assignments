{
 "cells": [
  {
   "cell_type": "code",
   "execution_count": 1,
   "id": "cf45bb68",
   "metadata": {},
   "outputs": [
    {
     "name": "stdout",
     "output_type": "stream",
     "text": [
      "shazaib\n",
      "azhar\n",
      "ahmed\n",
      "tariq\n",
      "taha\n",
      "asif\n"
     ]
    }
   ],
   "source": [
    "#practice sets for list Datatype\n",
    "names = [\"shazaib\",\"azhar\",\"ahmed\",\"tariq\",\"taha\",\"asif\"]\n",
    "print(names[0])\n",
    "print(names[1])\n",
    "print(names[2])\n",
    "print(names[3])\n",
    "print(names[4])\n",
    "print(names[5])"
   ]
  },
  {
   "cell_type": "code",
   "execution_count": 3,
   "id": "f20ba561",
   "metadata": {},
   "outputs": [
    {
     "name": "stdout",
     "output_type": "stream",
     "text": [
      "shazaib  is one of my good friend\n",
      "azhar  is one of my good friend\n",
      "ahmed  is one of my good friend\n",
      "tariq  is one of my good friend\n",
      "taha  is one of my good friend\n",
      "asif  is one of my good friend\n"
     ]
    }
   ],
   "source": [
    "text = \"is one of my good friend\"\n",
    "for name in names:\n",
    "    print(name,\"\",text)"
   ]
  },
  {
   "cell_type": "code",
   "execution_count": null,
   "id": "aeb9067d",
   "metadata": {},
   "outputs": [],
   "source": []
  }
 ],
 "metadata": {
  "kernelspec": {
   "display_name": "Python 3 (ipykernel)",
   "language": "python",
   "name": "python3"
  },
  "language_info": {
   "codemirror_mode": {
    "name": "ipython",
    "version": 3
   },
   "file_extension": ".py",
   "mimetype": "text/x-python",
   "name": "python",
   "nbconvert_exporter": "python",
   "pygments_lexer": "ipython3",
   "version": "3.9.12"
  }
 },
 "nbformat": 4,
 "nbformat_minor": 5
}
