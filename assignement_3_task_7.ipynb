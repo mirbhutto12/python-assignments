{
 "cells": [
  {
   "cell_type": "code",
   "execution_count": 2,
   "id": "2d0ceba2",
   "metadata": {},
   "outputs": [
    {
     "name": "stdout",
     "output_type": "stream",
     "text": [
      "The first 3 favorite dishes are :  ['biryani', 'fish', 'afghani pulhao']\n",
      "The other 3 favorite dishes are :  ['koila karahi', 'nihari', 'zinger']\n",
      "The last 3 favorite dishes are :  ['tikka', 'broast', 'pizza']\n"
     ]
    }
   ],
   "source": [
    "#practice set of list\n",
    "\n",
    "favorite_dishes = [\"biryani\",\"fish\",\"afghani pulhao\",\"koila karahi\",\"nihari\",\"zinger\",\"tikka\",\"broast\",\"pizza\"]\n",
    "print(\"The first 3 favorite dishes are : \", favorite_dishes[0:3])\n",
    "print(\"The other 3 favorite dishes are : \", favorite_dishes[3:6])\n",
    "print(\"The last 3 favorite dishes are : \", favorite_dishes[6:])"
   ]
  },
  {
   "cell_type": "code",
   "execution_count": null,
   "id": "5aa8d644",
   "metadata": {},
   "outputs": [],
   "source": []
  }
 ],
 "metadata": {
  "kernelspec": {
   "display_name": "Python 3 (ipykernel)",
   "language": "python",
   "name": "python3"
  },
  "language_info": {
   "codemirror_mode": {
    "name": "ipython",
    "version": 3
   },
   "file_extension": ".py",
   "mimetype": "text/x-python",
   "name": "python",
   "nbconvert_exporter": "python",
   "pygments_lexer": "ipython3",
   "version": "3.9.12"
  }
 },
 "nbformat": 4,
 "nbformat_minor": 5
}
