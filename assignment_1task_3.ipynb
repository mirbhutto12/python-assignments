{
 "cells": [
  {
   "cell_type": "code",
   "execution_count": 1,
   "id": "49a6b1e3",
   "metadata": {},
   "outputs": [
    {
     "name": "stdout",
     "output_type": "stream",
     "text": [
      "enter marks of english : 80\n",
      "enter marks of math : 60\n",
      "enter marks of physics : 70\n",
      "enter marks of chemistry : 65\n",
      "marks obtained :  275\n",
      "your percentage is :  68.75\n"
     ]
    }
   ],
   "source": [
    "english = int(input(\"enter marks of english : \")) \n",
    "math = int(input(\"enter marks of math : \")) \n",
    "physics = int(input(\"enter marks of physics : \")) \n",
    "chemistry = int(input(\"enter marks of chemistry : \"))\n",
    "total_marks = 400\n",
    "marks_obtained = english + math + physics + chemistry\n",
    "print(\"marks obtained : \" , marks_obtained) \n",
    "print(\"your percentage is : \" , (marks_obtained*100)/total_marks) "
   ]
  },
  {
   "cell_type": "code",
   "execution_count": null,
   "id": "9fd10ee1",
   "metadata": {},
   "outputs": [],
   "source": []
  }
 ],
 "metadata": {
  "kernelspec": {
   "display_name": "Python 3 (ipykernel)",
   "language": "python",
   "name": "python3"
  },
  "language_info": {
   "codemirror_mode": {
    "name": "ipython",
    "version": 3
   },
   "file_extension": ".py",
   "mimetype": "text/x-python",
   "name": "python",
   "nbconvert_exporter": "python",
   "pygments_lexer": "ipython3",
   "version": "3.9.12"
  }
 },
 "nbformat": 4,
 "nbformat_minor": 5
}
