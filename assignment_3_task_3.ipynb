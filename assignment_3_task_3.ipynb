{
 "cells": [
  {
   "cell_type": "code",
   "execution_count": 3,
   "id": "6f9c663b",
   "metadata": {},
   "outputs": [
    {
     "name": "stdout",
     "output_type": "stream",
     "text": [
      "enter any interger number 6\n",
      "enter number is positive\n"
     ]
    }
   ],
   "source": [
    "#take input number from user and print weather a number is entered is positive ,negative or zero.\n",
    "\n",
    "enter_number = int(input(\"enter any interger number \"))\n",
    "if enter_number == 0:\n",
    "    print(\"enter number is Zero\")\n",
    "elif enter_number < 0:\n",
    "    print(\"enter number is negative\")\n",
    "else:\n",
    "    print(\"enter number is positive\")"
   ]
  },
  {
   "cell_type": "code",
   "execution_count": null,
   "id": "75d1b5c4",
   "metadata": {},
   "outputs": [],
   "source": []
  },
  {
   "cell_type": "code",
   "execution_count": null,
   "id": "728e4edf",
   "metadata": {},
   "outputs": [],
   "source": []
  }
 ],
 "metadata": {
  "kernelspec": {
   "display_name": "Python 3 (ipykernel)",
   "language": "python",
   "name": "python3"
  },
  "language_info": {
   "codemirror_mode": {
    "name": "ipython",
    "version": 3
   },
   "file_extension": ".py",
   "mimetype": "text/x-python",
   "name": "python",
   "nbconvert_exporter": "python",
   "pygments_lexer": "ipython3",
   "version": "3.9.12"
  }
 },
 "nbformat": 4,
 "nbformat_minor": 5
}
