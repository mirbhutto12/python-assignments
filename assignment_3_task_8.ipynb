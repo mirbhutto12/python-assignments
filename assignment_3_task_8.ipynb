{
 "cells": [
  {
   "cell_type": "code",
   "execution_count": 4,
   "id": "eb6e9363",
   "metadata": {},
   "outputs": [
    {
     "name": "stdout",
     "output_type": "stream",
     "text": [
      "\"My favorite dish are \"\n",
      "biryani\n",
      "fish\n",
      "afghani pulhao\n",
      "koila karahi\n",
      "nihari\n",
      "zinger\n",
      "tikka\n",
      "broast\n",
      "pizza\n",
      "\"My friends favorite dishes are:\"\n",
      "biryani\n",
      "fish\n",
      "afghani pulhao\n",
      "koila karahi\n",
      "nihari\n",
      "zinger\n",
      "tikka\n",
      "broast\n",
      "pizza\n",
      "chicken Tikka\n",
      "Bihari kabab\n"
     ]
    }
   ],
   "source": [
    "#practice set list\n",
    "favorite_dishes = [\"biryani\",\"fish\",\"afghani pulhao\",\"koila karahi\",\"nihari\",\"zinger\",\"tikka\",\"broast\",\"pizza\"]\n",
    "friends_favorite_dishes = favorite_dishes.copy()\n",
    "friends_favorite_dishes.append(\"chicken Tikka\")\n",
    "friends_favorite_dishes.append(\"Bihari kabab\")\n",
    "\n",
    "print(\"\\\"My favorite dish are \\\"\")\n",
    "for favorite_dish in favorite_dishes:\n",
    "    print(favorite_dish)\n",
    "    \n",
    "print(\"\\\"My friends favorite dishes are:\\\"\")\n",
    "for friends_favorite_dish in friends_favorite_dishes:\n",
    "    print(friends_favorite_dish)"
   ]
  },
  {
   "cell_type": "code",
   "execution_count": null,
   "id": "13ebc7e7",
   "metadata": {},
   "outputs": [],
   "source": []
  }
 ],
 "metadata": {
  "kernelspec": {
   "display_name": "Python 3 (ipykernel)",
   "language": "python",
   "name": "python3"
  },
  "language_info": {
   "codemirror_mode": {
    "name": "ipython",
    "version": 3
   },
   "file_extension": ".py",
   "mimetype": "text/x-python",
   "name": "python",
   "nbconvert_exporter": "python",
   "pygments_lexer": "ipython3",
   "version": "3.9.12"
  }
 },
 "nbformat": 4,
 "nbformat_minor": 5
}
