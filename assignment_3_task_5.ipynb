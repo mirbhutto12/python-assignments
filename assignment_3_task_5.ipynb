{
 "cells": [
  {
   "cell_type": "code",
   "execution_count": 1,
   "id": "57c7d37a",
   "metadata": {},
   "outputs": [
    {
     "name": "stdout",
     "output_type": "stream",
     "text": [
      "Enter your weight in kilograms : 54\n",
      "Enter your height in centimeters : 15\n",
      "Entered Weight is 54 kg\n",
      "Entered Height is 15 cm\n",
      "Your BMI is : 2400.0\n"
     ]
    }
   ],
   "source": [
    "#BMI calculator\n",
    "\n",
    "your_weight = int(input(\"Enter your weight in kilograms : \"))\n",
    "your_height = int(input(\"Enter your height in centimeters : \"))\n",
    "\n",
    "converted_height_into_meters = your_height / 100\n",
    "BMI = your_weight / converted_height_into_meters ** 2\n",
    "\n",
    "print(\"Entered Weight is\",your_weight,\"kg\" )\n",
    "print(\"Entered Height is\" , your_height ,\"cm\")\n",
    "print(\"Your BMI is :\" , BMI)"
   ]
  },
  {
   "cell_type": "code",
   "execution_count": null,
   "id": "d5f68801",
   "metadata": {},
   "outputs": [],
   "source": []
  }
 ],
 "metadata": {
  "kernelspec": {
   "display_name": "Python 3 (ipykernel)",
   "language": "python",
   "name": "python3"
  },
  "language_info": {
   "codemirror_mode": {
    "name": "ipython",
    "version": 3
   },
   "file_extension": ".py",
   "mimetype": "text/x-python",
   "name": "python",
   "nbconvert_exporter": "python",
   "pygments_lexer": "ipython3",
   "version": "3.9.12"
  }
 },
 "nbformat": 4,
 "nbformat_minor": 5
}
